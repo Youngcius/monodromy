{
  "cells": [
    {
      "cell_type": "code",
      "execution_count": 3,
      "metadata": {},
      "outputs": [
        {
          "data": {
            "text/html": [
              "<pre style=\"word-wrap: normal;white-space: pre;background: #fff0;line-height: 1.1;font-family: &quot;Courier New&quot;,Courier,monospace\">                                                   \n",
              "q_0: ─X───■────────X───■────■────■─────────X───────\n",
              "      │ ┌─┴─┐      │ ┌─┴─┐┌─┴─┐  │         │       \n",
              "q_1: ─X─┤ X ├──■───X─┤ X ├┤ X ├──┼────■────X───────\n",
              "        └───┘┌─┴─┐   └───┘└───┘┌─┴─┐┌─┴─┐          \n",
              "q_2: ────────┤ X ├─X───────────┤ X ├┤ X ├──■────■──\n",
              "             └───┘ │           └───┘└───┘┌─┴─┐┌─┴─┐\n",
              "q_3: ──────────────X─────────────────────┤ X ├┤ X ├\n",
              "                                         └───┘└───┘</pre>"
            ],
            "text/plain": [
              "                                                   \n",
              "q_0: ─X───■────────X───■────■────■─────────X───────\n",
              "      │ ┌─┴─┐      │ ┌─┴─┐┌─┴─┐  │         │       \n",
              "q_1: ─X─┤ X ├──■───X─┤ X ├┤ X ├──┼────■────X───────\n",
              "        └───┘┌─┴─┐   └───┘└───┘┌─┴─┐┌─┴─┐          \n",
              "q_2: ────────┤ X ├─X───────────┤ X ├┤ X ├──■────■──\n",
              "             └───┘ │           └───┘└───┘┌─┴─┐┌─┴─┐\n",
              "q_3: ──────────────X─────────────────────┤ X ├┤ X ├\n",
              "                                         └───┘└───┘"
            ]
          },
          "metadata": {},
          "output_type": "display_data"
        },
        {
          "name": "stdout",
          "output_type": "stream",
          "text": [
            "Depth: 10\n",
            "Monodromy depth: 14\n"
          ]
        }
      ],
      "source": [
        "from monodromy.depthPass import MonodromyDepth\n",
        "from qiskit.transpiler.passmanager import PassManager\n",
        "from qiskit.circuit.library import iSwapGate\n",
        "from qiskit.transpiler.passes import Depth\n",
        "from qiskit import QuantumCircuit\n",
        "\n",
        "pm = PassManager()\n",
        "pm.append(Depth())\n",
        "pm.append(MonodromyDepth(basis_gate=iSwapGate().power(1/2)))\n",
        "\n",
        "qc= QuantumCircuit(4)\n",
        "qc.swap(0,1)\n",
        "qc.cx(0,1)\n",
        "qc.cx(1,2)\n",
        "qc.swap(0,1)\n",
        "qc.cx(0,1)\n",
        "qc.cx(0,1)\n",
        "qc.swap(2,3)\n",
        "qc.cx(0,2)\n",
        "qc.cx(1,2)\n",
        "qc.swap(0,1)\n",
        "qc.cx(2,3)\n",
        "qc.cx(2,3)\n",
        "display(qc.draw())\n",
        "\n",
        "pm.run(qc)\n",
        "expected_value = 14\n",
        "print(f\"Depth: {pm.property_set['depth']}\")\n",
        "print(f\"Monodromy depth: {pm.property_set['monodromy_depth']}\")\n",
        "assert pm.property_set[\"monodromy_depth\"] == expected_value, \"Monodromy depth not calculated correctly!\"\n"
      ]
    },
    {
      "cell_type": "code",
      "execution_count": 11,
      "metadata": {},
      "outputs": [
        {
          "data": {
            "text/html": [
              "<pre style=\"word-wrap: normal;white-space: pre;background: #fff0;line-height: 1.1;font-family: &quot;Courier New&quot;,Courier,monospace\">                     \n",
              "q_0: ─X───■────────X─\n",
              "      │ ┌─┴─┐      │ \n",
              "q_1: ─X─┤ X ├──■───X─\n",
              "        └───┘┌─┴─┐   \n",
              "q_2: ────────┤ X ├───\n",
              "             └───┘   </pre>"
            ],
            "text/plain": [
              "                     \n",
              "q_0: ─X───■────────X─\n",
              "      │ ┌─┴─┐      │ \n",
              "q_1: ─X─┤ X ├──■───X─\n",
              "        └───┘┌─┴─┐   \n",
              "q_2: ────────┤ X ├───\n",
              "             └───┘   "
            ]
          },
          "metadata": {},
          "output_type": "display_data"
        },
        {
          "data": {
            "text/plain": [
              "6"
            ]
          },
          "execution_count": 11,
          "metadata": {},
          "output_type": "execute_result"
        }
      ],
      "source": [
        "from monodromy.depthPass import MonodromyDepth\n",
        "from qiskit.transpiler.passmanager import PassManager\n",
        "from qiskit.circuit.library import CXGate\n",
        "from qiskit import QuantumCircuit\n",
        "pm = PassManager()\n",
        "pm.append(MonodromyDepth(basis_gate=CXGate()))\n",
        "\n",
        "qc= QuantumCircuit(3)\n",
        "qc.swap(0,1)\n",
        "qc.cx(0,1)\n",
        "qc.cx(1,2)\n",
        "qc.swap(0,1)\n",
        "display(qc.draw())\n",
        "\n",
        "pm.run(qc)\n",
        "\n",
        "pm.property_set[\"monodromy_depth\"]"
      ]
    },
    {
      "cell_type": "code",
      "execution_count": 1,
      "metadata": {},
      "outputs": [
        {
          "name": "stdout",
          "output_type": "stream",
          "text": [
            "3.000000000000001\n",
            "3.540254820808027\n",
            "3.000000000000001\n",
            "2.2098826363156774\n"
          ]
        }
      ],
      "source": [
        "from monodromy.haar import haar_score\n",
        "from qiskit.circuit.library import CXGate, iSwapGate\n",
        "\n",
        "print(haar_score(CXGate()))\n",
        "print(haar_score(CXGate().power(1/2)))\n",
        "print(haar_score(iSwapGate()))\n",
        "print(haar_score(iSwapGate().power(1/2)))"
      ]
    }
  ],
  "metadata": {
    "interpreter": {
      "hash": "be1b086adedec3e943d75e3ea494de65cb5da3efc1a3e02d00e74e3aa0c83a17"
    },
    "kernelspec": {
      "display_name": "Python 3.8.10 ('monodromy_venv': venv)",
      "language": "python",
      "name": "python3"
    },
    "language_info": {
      "codemirror_mode": {
        "name": "ipython",
        "version": 3
      },
      "file_extension": ".py",
      "mimetype": "text/x-python",
      "name": "python",
      "nbconvert_exporter": "python",
      "pygments_lexer": "ipython3",
      "version": "3.9.16"
    },
    "orig_nbformat": 4
  },
  "nbformat": 4,
  "nbformat_minor": 2
}
